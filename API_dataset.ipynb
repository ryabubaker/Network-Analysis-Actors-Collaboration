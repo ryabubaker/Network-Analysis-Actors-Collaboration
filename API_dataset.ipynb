{
  "nbformat": 4,
  "nbformat_minor": 0,
  "metadata": {
    "colab": {
      "provenance": [],
      "authorship_tag": "ABX9TyNUxpOe4WFhM+jRGAg0HNwU",
      "include_colab_link": true
    },
    "kernelspec": {
      "name": "python3",
      "display_name": "Python 3"
    },
    "language_info": {
      "name": "python"
    }
  },
  "cells": [
    {
      "cell_type": "markdown",
      "metadata": {
        "id": "view-in-github",
        "colab_type": "text"
      },
      "source": [
        "<a href=\"https://colab.research.google.com/github/ryabubaker/Network-Analysis-Actors-Collaboration/blob/main/API_dataset.ipynb\" target=\"_parent\"><img src=\"https://colab.research.google.com/assets/colab-badge.svg\" alt=\"Open In Colab\"/></a>"
      ]
    },
    {
      "cell_type": "code",
      "source": [
        "import requests # to make TMDB API calls\n",
        "import locale # to format currency as USD\n",
        "locale.setlocale( locale.LC_ALL, '' )\n",
        "\n",
        "import pandas as pd\n",
        "#import matplotlib\n",
        "import matplotlib.pyplot as plt\n",
        "#from matplotlib.ticker import FuncFormatter # to format currency on charts axis\n",
        "\n",
        "import itertools\n",
        "from pandas import json_normalize \n",
        "import networkx as nx\n",
        "import datetime\n",
        "\n",
        "\n",
        "api_key = \"f726183f78328796b0ee6de0e081480c\" # get TMDB API key"
      ],
      "metadata": {
        "id": "mJDbDQMCiAhM"
      },
      "execution_count": null,
      "outputs": []
    },
    {
      "cell_type": "code",
      "execution_count": null,
      "metadata": {
        "id": "0P1MQNPYhXqY"
      },
      "outputs": [],
      "source": [
        "import json\n",
        "import csv\n",
        "import pandas as pd\n",
        "\n",
        "# Read the JSON file in chunks, filtering each chunk for movies with a popularity value of 50 or more\n",
        "def filter_chunk(chunk):\n",
        "    return chunk[chunk['popularity'] >= 3]\n",
        "\n",
        "df_chunk = pd.read_json(\"/content/movie_ids_04_05_2023.json\", lines=True, chunksize=20000)\n",
        "filtered_chunks = [filter_chunk(chunk) for chunk in df_chunk]\n",
        "\n",
        "# Concatenate the filtered chunks into a single DataFrame\n",
        "df = pd.concat(filtered_chunks)\n",
        "\n",
        "# Select only the first 30,000 rows of the DataFrame\n",
        "df = df.iloc[:50000]\n",
        "\n",
        "# Select the \"original_title\" and \"id\" columns\n",
        "df = df[[\"original_title\", \"id\"]]\n",
        "\n",
        "# Convert the DataFrame to a CSV file\n",
        "df.to_csv(\"MoviesID.csv\", index=False)"
      ]
    },
    {
      "cell_type": "code",
      "source": [
        "movies = pd.read_csv(\"/content/MoviesID.csv\")"
      ],
      "metadata": {
        "id": "tKD5--r-hnfx"
      },
      "execution_count": null,
      "outputs": []
    },
    {
      "cell_type": "code",
      "source": [
        "import concurrent.futures\n",
        "import requests\n",
        "\n",
        "def get_movie_data(movie_id, title):\n",
        "    # Fetch movie details\n",
        "    query_movie = \"https://api.themoviedb.org/3/movie/\" + str(movie_id) + \"?api_key=\" + api_key + \"&language=en-US\"\n",
        "    response_movie = requests.get(query_movie)\n",
        "    \n",
        "    if response_movie.status_code == 200:\n",
        "        movie_details = response_movie.json()\n",
        "        year_of_release = movie_details['release_date'][:4]\n",
        "        director = \"\"\n",
        "        \n",
        "        # Fetch movie credits\n",
        "        query_credits = \"https://api.themoviedb.org/3/movie/\" + str(movie_id) + \"/credits?api_key=\" + api_key + \"&language=en-US\"\n",
        "        response_credits = requests.get(query_credits)\n",
        "        \n",
        "        if response_credits.status_code == 200:\n",
        "            movie_credits = response_credits.json()\n",
        "            \n",
        "            # Extract director information\n",
        "            for crew_member in movie_credits['crew']:\n",
        "                if crew_member['job'] == 'Director':\n",
        "                    director = crew_member['name']\n",
        "                    break\n",
        "            \n",
        "            # Extract cast information\n",
        "            cast = [cast_member['name'] for cast_member in movie_credits['cast']]\n",
        "            \n",
        "            # Return the extracted information as a dictionary\n",
        "            return {\n",
        "                \"id\": movie_id,\n",
        "                \"title\": title,\n",
        "                \"year_of_release\": year_of_release,\n",
        "                \"director\": director,\n",
        "                \"cast\": cast\n",
        "            }\n",
        "\n",
        "with concurrent.futures.ThreadPoolExecutor() as executor:\n",
        "    movie_data = list(executor.map(get_movie_data, movies['id'], movies['original_title']))\n"
      ],
      "metadata": {
        "id": "d67aLgDE1jOM"
      },
      "execution_count": null,
      "outputs": []
    },
    {
      "cell_type": "code",
      "source": [
        "# Filter out None values from the movie_data list\n",
        "filtered_movie_data = [data for data in movie_data if data is not None]\n",
        "\n",
        "# Create a DataFrame using the filtered movie data\n",
        "movie_df = pd.DataFrame(filtered_movie_data)\n",
        "\n"
      ],
      "metadata": {
        "id": "E4GNLAs7_PkG"
      },
      "execution_count": null,
      "outputs": []
    },
    {
      "cell_type": "code",
      "source": [
        "# Export the DataFrame to a CSV file\n",
        "movie_df.to_csv('movie_data.csv', encoding='utf-8', index=False)"
      ],
      "metadata": {
        "id": "sv1dwJe5GbQF"
      },
      "execution_count": null,
      "outputs": []
    }
  ]
}